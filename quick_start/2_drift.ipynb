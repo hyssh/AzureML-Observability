{
 "cells": [
  {
   "cell_type": "markdown",
   "metadata": {},
   "source": [
    "### Get Azure Machine Learning Workspace\n",
    "\n",
    "Workspace is used to retreive credentials and secrets in Key Vault to connect to Azure Data Explorer."
   ]
  },
  {
   "cell_type": "code",
   "execution_count": 2,
   "metadata": {},
   "outputs": [
    {
     "name": "stderr",
     "output_type": "stream",
     "text": [
      "C:\\Users\\nserafino\\Anaconda3\\envs\\mlopsenv\\lib\\site-packages\\cryptography\\hazmat\\_der.py:9: CryptographyDeprecationWarning: int_from_bytes is deprecated, use int.from_bytes instead\n",
      "  from cryptography.utils import int_from_bytes, int_to_bytes\n",
      "C:\\Users\\nserafino\\Anaconda3\\envs\\mlopsenv\\lib\\site-packages\\pkg_resources\\__init__.py:122: PkgResourcesDeprecationWarning: win32 is an invalid version and will not be supported in a future release\n",
      "  warnings.warn(\n",
      "Failure while loading azureml_run_type_providers. Failed to load entrypoint automl = azureml.train.automl.run:AutoMLRun._from_run_dto with exception The 'applicationinsights' distribution was not found and is required by azureml-telemetry.\n",
      "Failure while loading azureml_run_type_providers. Failed to load entrypoint azureml.scriptrun = azureml.core.script_run:ScriptRun._from_run_dto with exception (urllib3 1.26.8 (c:\\users\\nserafino\\anaconda3\\envs\\mlopsenv\\lib\\site-packages), Requirement.parse('urllib3<=1.26.7,>=1.23')).\n",
      "Failure while loading azureml_run_type_providers. Failed to load entrypoint azureml.PipelineRun = azureml.pipeline.core.run:PipelineRun._from_dto with exception (urllib3 1.26.8 (c:\\users\\nserafino\\anaconda3\\envs\\mlopsenv\\lib\\site-packages), Requirement.parse('urllib3<=1.26.7,>=1.23'), {'azureml-core'}).\n",
      "Failure while loading azureml_run_type_providers. Failed to load entrypoint azureml.ReusedStepRun = azureml.pipeline.core.run:StepRun._from_reused_dto with exception (urllib3 1.26.8 (c:\\users\\nserafino\\anaconda3\\envs\\mlopsenv\\lib\\site-packages), Requirement.parse('urllib3<=1.26.7,>=1.23'), {'azureml-core'}).\n",
      "Failure while loading azureml_run_type_providers. Failed to load entrypoint azureml.StepRun = azureml.pipeline.core.run:StepRun._from_dto with exception (urllib3 1.26.8 (c:\\users\\nserafino\\anaconda3\\envs\\mlopsenv\\lib\\site-packages), Requirement.parse('urllib3<=1.26.7,>=1.23'), {'azureml-core'}).\n",
      "Failure while loading azureml_run_type_providers. Failed to load entrypoint hyperdrive = azureml.train.hyperdrive:HyperDriveRun._from_run_dto with exception The 'applicationinsights' distribution was not found and is required by azureml-telemetry.\n"
     ]
    }
   ],
   "source": [
    "from aml_obs.drift import Drift_Analysis\n",
    "from azureml.core import Workspace\n",
    "from aml_obs.drift import launch_dashboard\n",
    "\n",
    "ws = Workspace.from_config()\n",
    "drift_analysis = Drift_Analysis(ws)"
   ]
  },
  {
   "cell_type": "markdown",
   "metadata": {},
   "source": [
    "### Option 1: Local Dashboard with Dash\n",
    "\n",
    "Run cell below and copy the link into browser to access the dashboard. Once in the dashboard, interact with the widgets to create visualizations from avaiable data. Use ```irisdata``` created in part 0 as a sample table if needed. "
   ]
  },
  {
   "cell_type": "code",
   "execution_count": 4,
   "metadata": {},
   "outputs": [
    {
     "name": "stdout",
     "output_type": "stream",
     "text": [
      "Dash app running on http://127.0.0.1:8050/\n"
     ]
    }
   ],
   "source": [
    "launch_dashboard(drift_analysis)"
   ]
  },
  {
   "cell_type": "markdown",
   "metadata": {},
   "source": [
    "### Option 2: Upload Dashboard to Azure Data Explorer\n",
    "\n",
    "If a centralized dashboard is preferred, go to Azure Data Explorer Dashboards and import the quick_start/ADX_dashboards/databoard_drift_detection.json file to create a dashboard.\n",
    "\n",
    "Review the instructions on how to import the dashboard [here.](https://docs.microsoft.com/en-us/azure/data-explorer/azure-data-explorer-dashboards#to-create-new-dashboard-from-a-file)\n",
    "\n",
    "Default parameters may need to updated to ensure proper connection."
   ]
  },
  {
   "cell_type": "markdown",
   "metadata": {},
   "source": []
  }
 ],
 "metadata": {
  "interpreter": {
   "hash": "74e9702761b8f12846716a18132904990016d49f378e22e0e13a0e91318de754"
  },
  "kernelspec": {
   "display_name": "Python 3.8.12 ('mlopsenv')",
   "language": "python",
   "name": "python3"
  },
  "language_info": {
   "codemirror_mode": {
    "name": "ipython",
    "version": 3
   },
   "file_extension": ".py",
   "mimetype": "text/x-python",
   "name": "python",
   "nbconvert_exporter": "python",
   "pygments_lexer": "ipython3",
   "version": "3.8.12"
  },
  "orig_nbformat": 4
 },
 "nbformat": 4,
 "nbformat_minor": 2
}
