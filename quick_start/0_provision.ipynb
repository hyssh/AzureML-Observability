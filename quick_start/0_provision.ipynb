{
 "cells": [
  {
   "cell_type": "code",
   "execution_count": 6,
   "metadata": {},
   "outputs": [],
   "source": [
    "from azureml.core import Workspace\n",
    "from aml_obs.management import provision\n",
    "import pandas as pd\n",
    "from datetime import timedelta\n",
    "from aml_obs.collector import Online_Collector\n",
    "\n",
    "ws = Workspace.from_config()"
   ]
  },
  {
   "cell_type": "markdown",
   "metadata": {},
   "source": [
    "### Provision Resources"
   ]
  },
  {
   "cell_type": "code",
   "execution_count": null,
   "metadata": {},
   "outputs": [],
   "source": [
    "provision(ws)"
   ]
  },
  {
   "cell_type": "code",
   "execution_count": 7,
   "metadata": {},
   "outputs": [],
   "source": [
    "dataset = pd.read_csv(\"https://azuremlexamples.blob.core.windows.net/datasets/iris.csv\")"
   ]
  },
  {
   "cell_type": "code",
   "execution_count": 31,
   "metadata": {},
   "outputs": [
    {
     "name": "stderr",
     "output_type": "stream",
     "text": [
      "C:\\Users\\nserafino\\Anaconda3\\envs\\mlopsenv\\lib\\site-packages\\pandas\\core\\arrays\\datetimes.py:2199: FutureWarning: The parsing of 'now' in pd.to_datetime without `utc=True` is deprecated. In a future version, this will match Timestamp('now') and Timestamp.now()\n",
      "  result, tz_parsed = tslib.array_to_datetime(\n"
     ]
    }
   ],
   "source": [
    "dataset[\"datetime\"] =  [pd.to_datetime('now') - timedelta(days=x) for x in range(len(dataset))]"
   ]
  },
  {
   "cell_type": "code",
   "execution_count": 32,
   "metadata": {},
   "outputs": [],
   "source": [
    "dataset.to_parquet(\"data/iris.parquet\", index=False)"
   ]
  },
  {
   "cell_type": "code",
   "execution_count": 33,
   "metadata": {},
   "outputs": [],
   "source": [
    "\n",
    "table_name = \"irisdata\" #new dataset\n",
    "\n",
    "sample_pd_data = pd.read_parquet(\"data/iris.parquet\").head(10)\n",
    "\n",
    "online_collector = Online_Collector(table_name,ws=ws)\n",
    "online_collector.batch_collect(sample_pd_data)"
   ]
  },
  {
   "cell_type": "code",
   "execution_count": 39,
   "metadata": {},
   "outputs": [
    {
     "name": "stdout",
     "output_type": "stream",
     "text": [
      ".create table iris_data (['sepal_length']: real, ['sepal_width']: real, ['petal_length']: real, ['petal_width']: real, ['species']: string, ['datetime']: datetime)\n"
     ]
    }
   ],
   "source": [
    "table_name = \"iris_data\" #new dataset\n",
    "\n",
    "sample_pd_data = pd.read_parquet(\"data/iris.parquet\")\n",
    "online_collector = Online_Collector(table_name,ws=ws)\n",
    "online_collector.stream_collect_df(sample_pd_data)"
   ]
  },
  {
   "cell_type": "code",
   "execution_count": 27,
   "metadata": {},
   "outputs": [
    {
     "data": {
      "text/plain": [
       "'https://adx02.westus2.kusto.windows.net'"
      ]
     },
     "execution_count": 27,
     "metadata": {},
     "output_type": "execute_result"
    }
   ],
   "source": [
    "# get cluster uri to use in browser\n",
    "\n",
    "online_collector.cluster_uri"
   ]
  },
  {
   "cell_type": "code",
   "execution_count": null,
   "metadata": {},
   "outputs": [],
   "source": []
  }
 ],
 "metadata": {
  "interpreter": {
   "hash": "74e9702761b8f12846716a18132904990016d49f378e22e0e13a0e91318de754"
  },
  "kernelspec": {
   "display_name": "Python 3.8.12 ('mlopsenv')",
   "language": "python",
   "name": "python3"
  },
  "language_info": {
   "codemirror_mode": {
    "name": "ipython",
    "version": 3
   },
   "file_extension": ".py",
   "mimetype": "text/x-python",
   "name": "python",
   "nbconvert_exporter": "python",
   "pygments_lexer": "ipython3",
   "version": "3.8.12"
  },
  "orig_nbformat": 4
 },
 "nbformat": 4,
 "nbformat_minor": 2
}
