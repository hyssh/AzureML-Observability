{
 "cells": [
  {
   "cell_type": "code",
   "execution_count": null,
   "metadata": {},
   "outputs": [],
   "source": [
    "%load_ext autoreload\n",
    "%autoreload 2"
   ]
  },
  {
   "cell_type": "code",
   "execution_count": null,
   "metadata": {},
   "outputs": [],
   "source": [
    "from aml_obs.collector import Online_Collector\n",
    "from aml_obs.query import RT_Visualization\n",
    "from azureml.core import Workspace\n",
    "import pandas as pd\n",
    "\n",
    "ws = Workspace.from_config()\n"
   ]
  },
  {
   "cell_type": "markdown",
   "metadata": {},
   "source": [
    "### Real time metrics logging and visualization\n",
    "#### You need to run this using your local computer or if you run with Azure ML Compute Instance, please do so from VSCode as Dash visualization requires access to localhost"
   ]
  },
  {
   "cell_type": "code",
   "execution_count": null,
   "metadata": {},
   "outputs": [],
   "source": [
    "# Ingest streaming data  asynchronously with internal buffering mechanism to lower impact to main scoring thread\n",
    "streaming_table_name=\"streaming_test\"\n",
    "streaming_collector = Online_Collector(streaming_table_name,ws=ws)\n",
    "\n",
    "import random\n",
    "streaming_collector.start_logging_daemon(buffer_time=2, batch_size=10)\n",
    "\n",
    "for run_id in [\"r000001\", \"r000002\", \"r000003\", \"r000004\", \"r000005\"]:\n",
    "    for i in range(1000):\n",
    "        for lr in [\"0.001\", \"0.002\"]:\n",
    "            df = pd.DataFrame({ \"timestamp\":pd.to_datetime('now'), \"lr\":[lr],\"metric1\":[random.uniform(3,50)] })\n",
    "            streaming_collector.stream_collect_df_queue(df)\n",
    "# streaming_collector.stop_logging_daemon()"
   ]
  },
  {
   "cell_type": "code",
   "execution_count": null,
   "metadata": {},
   "outputs": [],
   "source": [
    "# from monitoring.query import RT_Visualization\n",
    "streaming_table_name=\"streaming_test\"\n",
    "rt_viz =RT_Visualization(streaming_table_name,ws)\n",
    "# rt_viz.scatter(max_records=200, ago='15m',groupby='lr', y_metric='metric1',x_metric='timestamp')"
   ]
  },
  {
   "cell_type": "markdown",
   "metadata": {},
   "source": [
    "### Model Monitoring"
   ]
  },
  {
   "cell_type": "markdown",
   "metadata": {},
   "source": [
    "The deploy_model utility install AML CLI v2, create managed online endpoint, deploy the model. These steps are optional incase you want to supply your own names and objects. Check the function to see all paramters. The below just create everything."
   ]
  },
  {
   "cell_type": "code",
   "execution_count": null,
   "metadata": {},
   "outputs": [],
   "source": [
    "from deployment.deploy_util import deploy_model,score_test\n",
    "\n",
    "# scoring_uri, scoring_key = deploy_model(ws=ws)"
   ]
  },
  {
   "cell_type": "markdown",
   "metadata": {},
   "source": [
    "Once you have the model deployed with the collector object inside, you can just call it to simulate data creation. Data is collected to ADX table nIRIS_MODEL."
   ]
  },
  {
   "cell_type": "code",
   "execution_count": 7,
   "metadata": {},
   "outputs": [
    {
     "name": "stdout",
     "output_type": "stream",
     "text": [
      "b'[\"versicolor\", \"setosa\", \"virginica\", \"virginica\", \"virginica\", \"setosa\", \"versicolor\", \"versicolor\", \"setosa\", \"virginica\"]'\n",
      "b'[\"virginica\", \"setosa\", \"setosa\", \"virginica\", \"versicolor\", \"setosa\", \"setosa\", \"versicolor\", \"setosa\", \"virginica\"]'\n",
      "b'[\"setosa\", \"virginica\", \"versicolor\", \"virginica\", \"virginica\", \"setosa\", \"versicolor\", \"virginica\", \"versicolor\", \"virginica\"]'\n",
      "b'[\"virginica\", \"virginica\", \"virginica\", \"virginica\", \"setosa\", \"virginica\", \"versicolor\", \"setosa\", \"setosa\", \"versicolor\"]'\n",
      "b'[\"versicolor\", \"virginica\", \"virginica\", \"virginica\", \"setosa\", \"setosa\", \"virginica\", \"versicolor\", \"setosa\", \"virginica\"]'\n",
      "b'[\"setosa\", \"virginica\", \"virginica\", \"versicolor\", \"setosa\", \"versicolor\", \"setosa\", \"setosa\", \"setosa\", \"virginica\"]'\n",
      "b'[\"setosa\", \"versicolor\", \"virginica\", \"virginica\", \"versicolor\", \"setosa\", \"versicolor\", \"versicolor\", \"versicolor\", \"setosa\"]'\n",
      "b'[\"virginica\", \"virginica\", \"versicolor\", \"versicolor\", \"setosa\", \"setosa\", \"setosa\", \"setosa\", \"setosa\", \"virginica\"]'\n",
      "b'[\"setosa\", \"virginica\", \"virginica\", \"versicolor\", \"virginica\", \"virginica\", \"versicolor\", \"versicolor\", \"setosa\", \"setosa\"]'\n",
      "b'[\"setosa\", \"virginica\", \"versicolor\", \"virginica\", \"virginica\", \"virginica\", \"virginica\", \"setosa\", \"virginica\", \"versicolor\"]'\n",
      "b'[\"versicolor\", \"virginica\", \"versicolor\", \"versicolor\", \"versicolor\", \"setosa\", \"versicolor\", \"virginica\", \"versicolor\", \"versicolor\"]'\n",
      "b'[\"setosa\", \"virginica\", \"setosa\", \"virginica\", \"virginica\", \"setosa\", \"versicolor\", \"setosa\", \"virginica\", \"setosa\"]'\n",
      "b'[\"setosa\", \"versicolor\", \"versicolor\", \"versicolor\", \"versicolor\", \"versicolor\", \"setosa\", \"setosa\", \"setosa\", \"versicolor\"]'\n",
      "b'[\"versicolor\", \"versicolor\", \"virginica\", \"setosa\", \"setosa\", \"virginica\", \"virginica\", \"setosa\", \"versicolor\", \"virginica\"]'\n",
      "b'[\"virginica\", \"virginica\", \"setosa\", \"versicolor\", \"versicolor\", \"virginica\", \"virginica\", \"setosa\", \"versicolor\", \"virginica\"]'\n",
      "b'[\"versicolor\", \"setosa\", \"versicolor\", \"versicolor\", \"versicolor\", \"versicolor\", \"setosa\", \"setosa\", \"setosa\", \"versicolor\"]'\n",
      "b'[\"versicolor\", \"virginica\", \"setosa\", \"versicolor\", \"setosa\", \"versicolor\", \"versicolor\", \"versicolor\", \"setosa\", \"setosa\"]'\n",
      "b'[\"setosa\", \"virginica\", \"versicolor\", \"setosa\", \"virginica\", \"setosa\", \"versicolor\", \"setosa\", \"virginica\", \"setosa\"]'\n",
      "b'[\"setosa\", \"versicolor\", \"setosa\", \"virginica\", \"setosa\", \"setosa\", \"setosa\", \"versicolor\", \"versicolor\", \"virginica\"]'\n",
      "b'[\"setosa\", \"versicolor\", \"setosa\", \"versicolor\", \"virginica\", \"setosa\", \"virginica\", \"virginica\", \"virginica\", \"virginica\"]'\n",
      "b'[\"virginica\", \"setosa\", \"versicolor\", \"virginica\", \"versicolor\", \"setosa\", \"virginica\", \"versicolor\", \"virginica\", \"virginica\"]'\n",
      "b'[\"versicolor\", \"setosa\", \"versicolor\", \"virginica\", \"versicolor\", \"versicolor\", \"setosa\", \"virginica\", \"versicolor\", \"setosa\"]'\n",
      "b'[\"virginica\", \"versicolor\", \"virginica\", \"setosa\", \"virginica\", \"setosa\", \"setosa\", \"virginica\", \"setosa\", \"setosa\"]'\n",
      "b'[\"setosa\", \"setosa\", \"versicolor\", \"versicolor\", \"setosa\", \"versicolor\", \"virginica\", \"versicolor\", \"setosa\", \"virginica\"]'\n",
      "b'[\"setosa\", \"versicolor\", \"virginica\", \"virginica\", \"virginica\", \"versicolor\", \"versicolor\", \"setosa\", \"virginica\", \"setosa\"]'\n",
      "b'[\"virginica\", \"virginica\", \"setosa\", \"versicolor\", \"setosa\", \"versicolor\", \"virginica\", \"setosa\", \"setosa\", \"setosa\"]'\n",
      "b'[\"virginica\", \"virginica\", \"versicolor\", \"versicolor\", \"virginica\", \"virginica\", \"setosa\", \"virginica\", \"setosa\", \"setosa\"]'\n",
      "b'[\"setosa\", \"versicolor\", \"virginica\", \"versicolor\", \"setosa\", \"setosa\", \"virginica\", \"setosa\", \"setosa\", \"versicolor\"]'\n",
      "b'[\"versicolor\", \"versicolor\", \"versicolor\", \"virginica\", \"versicolor\", \"versicolor\", \"virginica\", \"setosa\", \"virginica\", \"setosa\"]'\n",
      "b'[\"virginica\", \"virginica\", \"setosa\", \"virginica\", \"setosa\", \"versicolor\", \"versicolor\", \"virginica\", \"versicolor\", \"virginica\"]'\n",
      "b'[\"setosa\", \"setosa\", \"setosa\", \"virginica\", \"setosa\", \"setosa\", \"setosa\", \"virginica\", \"virginica\", \"virginica\"]'\n",
      "b'[\"virginica\", \"virginica\", \"setosa\", \"versicolor\", \"versicolor\", \"virginica\", \"setosa\", \"setosa\", \"versicolor\", \"setosa\"]'\n",
      "b'[\"setosa\", \"virginica\", \"versicolor\", \"virginica\", \"virginica\", \"versicolor\", \"setosa\", \"setosa\", \"setosa\", \"virginica\"]'\n",
      "b'[\"versicolor\", \"versicolor\", \"versicolor\", \"setosa\", \"setosa\", \"versicolor\", \"virginica\", \"virginica\", \"versicolor\", \"virginica\"]'\n",
      "b'[\"versicolor\", \"virginica\", \"virginica\", \"virginica\", \"virginica\", \"versicolor\", \"setosa\", \"virginica\", \"virginica\", \"setosa\"]'\n",
      "b'[\"setosa\", \"virginica\", \"virginica\", \"versicolor\", \"versicolor\", \"virginica\", \"setosa\", \"setosa\", \"setosa\", \"virginica\"]'\n",
      "b'[\"virginica\", \"setosa\", \"versicolor\", \"virginica\", \"virginica\", \"setosa\", \"setosa\", \"setosa\", \"virginica\", \"setosa\"]'\n",
      "b'[\"virginica\", \"versicolor\", \"virginica\", \"virginica\", \"versicolor\", \"virginica\", \"versicolor\", \"versicolor\", \"setosa\", \"setosa\"]'\n",
      "b'[\"versicolor\", \"versicolor\", \"setosa\", \"setosa\", \"virginica\", \"virginica\", \"virginica\", \"versicolor\", \"versicolor\", \"versicolor\"]'\n",
      "b'[\"versicolor\", \"setosa\", \"virginica\", \"versicolor\", \"virginica\", \"virginica\", \"versicolor\", \"versicolor\", \"virginica\", \"versicolor\"]'\n",
      "b'[\"virginica\", \"virginica\", \"virginica\", \"setosa\", \"versicolor\", \"setosa\", \"setosa\", \"versicolor\", \"versicolor\", \"virginica\"]'\n",
      "b'[\"setosa\", \"virginica\", \"virginica\", \"setosa\", \"versicolor\", \"virginica\", \"versicolor\", \"versicolor\", \"virginica\", \"virginica\"]'\n",
      "b'[\"virginica\", \"virginica\", \"virginica\", \"versicolor\", \"setosa\", \"virginica\", \"virginica\", \"versicolor\", \"setosa\", \"virginica\"]'\n",
      "b'[\"versicolor\", \"virginica\", \"versicolor\", \"virginica\", \"setosa\", \"setosa\", \"virginica\", \"versicolor\", \"setosa\", \"virginica\"]'\n",
      "b'[\"virginica\", \"versicolor\", \"setosa\", \"versicolor\", \"setosa\", \"virginica\", \"virginica\", \"virginica\", \"virginica\", \"versicolor\"]'\n",
      "b'[\"setosa\", \"virginica\", \"versicolor\", \"virginica\", \"setosa\", \"setosa\", \"setosa\", \"setosa\", \"virginica\", \"virginica\"]'\n",
      "b'[\"virginica\", \"versicolor\", \"versicolor\", \"setosa\", \"virginica\", \"virginica\", \"virginica\", \"virginica\", \"versicolor\", \"setosa\"]'\n",
      "b'[\"virginica\", \"versicolor\", \"virginica\", \"setosa\", \"virginica\", \"virginica\", \"virginica\", \"virginica\", \"virginica\", \"virginica\"]'\n",
      "b'[\"setosa\", \"versicolor\", \"versicolor\", \"versicolor\", \"setosa\", \"versicolor\", \"virginica\", \"setosa\", \"virginica\", \"virginica\"]'\n",
      "b'[\"setosa\", \"versicolor\", \"setosa\", \"versicolor\", \"setosa\", \"versicolor\", \"versicolor\", \"setosa\", \"virginica\", \"versicolor\"]'\n",
      "b'[\"setosa\", \"versicolor\", \"virginica\", \"virginica\", \"versicolor\", \"versicolor\", \"virginica\", \"versicolor\", \"virginica\", \"versicolor\"]'\n",
      "b'[\"virginica\", \"versicolor\", \"setosa\", \"setosa\", \"versicolor\", \"virginica\", \"setosa\", \"setosa\", \"versicolor\", \"virginica\"]'\n",
      "b'[\"setosa\", \"setosa\", \"virginica\", \"setosa\", \"versicolor\", \"versicolor\", \"versicolor\", \"virginica\", \"versicolor\", \"versicolor\"]'\n",
      "b'[\"virginica\", \"setosa\", \"versicolor\", \"setosa\", \"versicolor\", \"setosa\", \"virginica\", \"virginica\", \"versicolor\", \"setosa\"]'\n",
      "b'[\"versicolor\", \"virginica\", \"setosa\", \"setosa\", \"setosa\", \"virginica\", \"setosa\", \"versicolor\", \"setosa\", \"versicolor\"]'\n",
      "b'[\"versicolor\", \"setosa\", \"virginica\", \"virginica\", \"setosa\", \"setosa\", \"virginica\", \"setosa\", \"virginica\", \"versicolor\"]'\n",
      "b'[\"virginica\", \"virginica\", \"versicolor\", \"virginica\", \"versicolor\", \"setosa\", \"setosa\", \"setosa\", \"versicolor\", \"setosa\"]'\n",
      "b'[\"virginica\", \"versicolor\", \"virginica\", \"virginica\", \"versicolor\", \"versicolor\", \"virginica\", \"setosa\", \"virginica\", \"virginica\"]'\n",
      "b'[\"setosa\", \"virginica\", \"versicolor\", \"setosa\", \"setosa\", \"virginica\", \"setosa\", \"setosa\", \"virginica\", \"versicolor\"]'\n",
      "b'[\"versicolor\", \"versicolor\", \"virginica\", \"virginica\", \"setosa\", \"virginica\", \"setosa\", \"setosa\", \"virginica\", \"virginica\"]'\n",
      "b'[\"setosa\", \"setosa\", \"versicolor\", \"setosa\", \"versicolor\", \"virginica\", \"setosa\", \"setosa\", \"versicolor\", \"virginica\"]'\n",
      "b'[\"setosa\", \"virginica\", \"virginica\", \"versicolor\", \"versicolor\", \"setosa\", \"versicolor\", \"setosa\", \"virginica\", \"setosa\"]'\n",
      "b'[\"virginica\", \"versicolor\", \"virginica\", \"virginica\", \"virginica\", \"setosa\", \"setosa\", \"setosa\", \"virginica\", \"setosa\"]'\n",
      "b'[\"virginica\", \"virginica\", \"setosa\", \"virginica\", \"virginica\", \"virginica\", \"virginica\", \"setosa\", \"versicolor\", \"virginica\"]'\n",
      "b'[\"virginica\", \"setosa\", \"virginica\", \"versicolor\", \"setosa\", \"setosa\", \"setosa\", \"setosa\", \"setosa\", \"virginica\"]'\n",
      "b'[\"virginica\", \"virginica\", \"versicolor\", \"virginica\", \"versicolor\", \"versicolor\", \"setosa\", \"virginica\", \"setosa\", \"versicolor\"]'\n",
      "b'[\"virginica\", \"versicolor\", \"versicolor\", \"versicolor\", \"versicolor\", \"virginica\", \"versicolor\", \"virginica\", \"setosa\", \"setosa\"]'\n",
      "b'[\"versicolor\", \"virginica\", \"virginica\", \"versicolor\", \"setosa\", \"virginica\", \"versicolor\", \"setosa\", \"virginica\", \"setosa\"]'\n",
      "b'[\"versicolor\", \"setosa\", \"virginica\", \"versicolor\", \"setosa\", \"setosa\", \"virginica\", \"setosa\", \"virginica\", \"setosa\"]'\n",
      "b'[\"setosa\", \"versicolor\", \"versicolor\", \"virginica\", \"setosa\", \"setosa\", \"versicolor\", \"setosa\", \"virginica\", \"setosa\"]'\n",
      "b'[\"setosa\", \"setosa\", \"setosa\", \"setosa\", \"virginica\", \"virginica\", \"virginica\", \"setosa\", \"versicolor\", \"virginica\"]'\n",
      "b'[\"virginica\", \"setosa\", \"versicolor\", \"versicolor\", \"setosa\", \"versicolor\", \"versicolor\", \"virginica\", \"versicolor\", \"virginica\"]'\n",
      "b'[\"versicolor\", \"virginica\", \"setosa\", \"versicolor\", \"versicolor\", \"setosa\", \"versicolor\", \"virginica\", \"virginica\", \"virginica\"]'\n",
      "b'[\"virginica\", \"setosa\", \"versicolor\", \"virginica\", \"setosa\", \"virginica\", \"virginica\", \"setosa\", \"setosa\", \"setosa\"]'\n",
      "b'[\"virginica\", \"setosa\", \"virginica\", \"virginica\", \"setosa\", \"virginica\", \"versicolor\", \"virginica\", \"virginica\", \"setosa\"]'\n",
      "b'[\"virginica\", \"versicolor\", \"virginica\", \"virginica\", \"setosa\", \"versicolor\", \"virginica\", \"virginica\", \"virginica\", \"virginica\"]'\n",
      "b'[\"setosa\", \"virginica\", \"setosa\", \"versicolor\", \"virginica\", \"versicolor\", \"versicolor\", \"virginica\", \"versicolor\", \"setosa\"]'\n",
      "b'[\"virginica\", \"virginica\", \"setosa\", \"versicolor\", \"setosa\", \"setosa\", \"setosa\", \"virginica\", \"setosa\", \"virginica\"]'\n",
      "b'[\"setosa\", \"versicolor\", \"virginica\", \"setosa\", \"setosa\", \"setosa\", \"versicolor\", \"versicolor\", \"virginica\", \"setosa\"]'\n",
      "b'[\"setosa\", \"setosa\", \"versicolor\", \"virginica\", \"setosa\", \"versicolor\", \"virginica\", \"versicolor\", \"versicolor\", \"virginica\"]'\n",
      "b'[\"setosa\", \"setosa\", \"virginica\", \"virginica\", \"setosa\", \"virginica\", \"setosa\", \"setosa\", \"setosa\", \"setosa\"]'\n",
      "b'[\"versicolor\", \"versicolor\", \"setosa\", \"setosa\", \"virginica\", \"virginica\", \"versicolor\", \"versicolor\", \"versicolor\", \"virginica\"]'\n",
      "b'[\"setosa\", \"virginica\", \"versicolor\", \"setosa\", \"virginica\", \"versicolor\", \"versicolor\", \"virginica\", \"versicolor\", \"versicolor\"]'\n",
      "b'[\"setosa\", \"versicolor\", \"versicolor\", \"versicolor\", \"virginica\", \"virginica\", \"versicolor\", \"virginica\", \"virginica\", \"versicolor\"]'\n",
      "b'[\"versicolor\", \"virginica\", \"setosa\", \"virginica\", \"setosa\", \"versicolor\", \"virginica\", \"virginica\", \"versicolor\", \"virginica\"]'\n",
      "b'[\"setosa\", \"virginica\", \"virginica\", \"setosa\", \"virginica\", \"versicolor\", \"setosa\", \"virginica\", \"versicolor\", \"versicolor\"]'\n",
      "b'[\"setosa\", \"versicolor\", \"setosa\", \"versicolor\", \"setosa\", \"virginica\", \"virginica\", \"setosa\", \"versicolor\", \"versicolor\"]'\n",
      "b'[\"versicolor\", \"versicolor\", \"virginica\", \"versicolor\", \"virginica\", \"versicolor\", \"setosa\", \"virginica\", \"versicolor\", \"setosa\"]'\n",
      "b'[\"setosa\", \"virginica\", \"versicolor\", \"setosa\", \"versicolor\", \"virginica\", \"setosa\", \"virginica\", \"versicolor\", \"setosa\"]'\n",
      "b'[\"versicolor\", \"virginica\", \"virginica\", \"versicolor\", \"versicolor\", \"virginica\", \"virginica\", \"virginica\", \"setosa\", \"virginica\"]'\n",
      "b'[\"setosa\", \"versicolor\", \"setosa\", \"setosa\", \"versicolor\", \"versicolor\", \"versicolor\", \"versicolor\", \"virginica\", \"virginica\"]'\n",
      "b'[\"setosa\", \"versicolor\", \"versicolor\", \"versicolor\", \"versicolor\", \"versicolor\", \"setosa\", \"versicolor\", \"virginica\", \"setosa\"]'\n",
      "b'[\"setosa\", \"setosa\", \"virginica\", \"virginica\", \"setosa\", \"setosa\", \"versicolor\", \"virginica\", \"setosa\", \"setosa\"]'\n",
      "b'[\"setosa\", \"versicolor\", \"setosa\", \"versicolor\", \"setosa\", \"setosa\", \"versicolor\", \"virginica\", \"versicolor\", \"virginica\"]'\n",
      "b'[\"virginica\", \"setosa\", \"versicolor\", \"virginica\", \"virginica\", \"versicolor\", \"virginica\", \"setosa\", \"virginica\", \"versicolor\"]'\n",
      "b'[\"versicolor\", \"setosa\", \"setosa\", \"versicolor\", \"versicolor\", \"virginica\", \"setosa\", \"virginica\", \"virginica\", \"virginica\"]'\n",
      "b'[\"virginica\", \"setosa\", \"versicolor\", \"setosa\", \"virginica\", \"virginica\", \"setosa\", \"virginica\", \"versicolor\", \"virginica\"]'\n",
      "b'[\"virginica\", \"versicolor\", \"virginica\", \"setosa\", \"setosa\", \"versicolor\", \"virginica\", \"virginica\", \"virginica\", \"virginica\"]'\n",
      "b'[\"virginica\", \"versicolor\", \"versicolor\", \"virginica\", \"setosa\", \"versicolor\", \"setosa\", \"virginica\", \"setosa\", \"setosa\"]'\n",
      "b'[\"setosa\", \"virginica\", \"versicolor\", \"virginica\", \"versicolor\", \"setosa\", \"versicolor\", \"versicolor\", \"versicolor\", \"versicolor\"]'\n",
      "b'[\"versicolor\", \"setosa\", \"setosa\", \"virginica\", \"versicolor\", \"versicolor\", \"setosa\", \"virginica\", \"virginica\", \"versicolor\"]'\n",
      "b'[\"setosa\", \"versicolor\", \"virginica\", \"setosa\", \"versicolor\", \"versicolor\", \"virginica\", \"setosa\", \"setosa\", \"virginica\"]'\n",
      "b'[\"virginica\", \"setosa\", \"versicolor\", \"virginica\", \"virginica\", \"versicolor\", \"setosa\", \"setosa\", \"setosa\", \"versicolor\"]'\n",
      "b'[\"virginica\", \"setosa\", \"virginica\", \"setosa\", \"setosa\", \"setosa\", \"virginica\", \"versicolor\", \"setosa\", \"setosa\"]'\n",
      "b'[\"setosa\", \"virginica\", \"setosa\", \"versicolor\", \"virginica\", \"versicolor\", \"versicolor\", \"virginica\", \"versicolor\", \"setosa\"]'\n",
      "b'[\"setosa\", \"setosa\", \"virginica\", \"setosa\", \"versicolor\", \"setosa\", \"virginica\", \"setosa\", \"virginica\", \"versicolor\"]'\n",
      "b'[\"virginica\", \"versicolor\", \"virginica\", \"setosa\", \"virginica\", \"versicolor\", \"virginica\", \"setosa\", \"setosa\", \"setosa\"]'\n",
      "b'[\"setosa\", \"versicolor\", \"versicolor\", \"virginica\", \"versicolor\", \"setosa\", \"setosa\", \"virginica\", \"setosa\", \"versicolor\"]'\n",
      "b'[\"versicolor\", \"versicolor\", \"virginica\", \"versicolor\", \"virginica\", \"setosa\", \"virginica\", \"setosa\", \"setosa\", \"setosa\"]'\n",
      "b'[\"setosa\", \"setosa\", \"versicolor\", \"setosa\", \"versicolor\", \"virginica\", \"setosa\", \"setosa\", \"versicolor\", \"versicolor\"]'\n",
      "b'[\"versicolor\", \"versicolor\", \"versicolor\", \"setosa\", \"virginica\", \"versicolor\", \"virginica\", \"virginica\", \"setosa\", \"virginica\"]'\n",
      "b'[\"virginica\", \"virginica\", \"versicolor\", \"setosa\", \"virginica\", \"virginica\", \"virginica\", \"virginica\", \"versicolor\", \"virginica\"]'\n",
      "b'[\"setosa\", \"setosa\", \"setosa\", \"setosa\", \"virginica\", \"virginica\", \"versicolor\", \"setosa\", \"setosa\", \"setosa\"]'\n",
      "b'[\"versicolor\", \"versicolor\", \"versicolor\", \"versicolor\", \"setosa\", \"virginica\", \"setosa\", \"virginica\", \"setosa\", \"virginica\"]'\n"
     ]
    }
   ],
   "source": [
    "import time\n",
    "scoring_uri=\"https://iris-ep.westus2.inference.ml.azure.com/score\"\n",
    "scoring_key=\"uPboOpl7zoiN5FVT2au3neWjnZCrp8oO\"\n",
    "for _ in range(200):\n",
    "    time.sleep(3)\n",
    "    score_test(scoring_uri, scoring_key)"
   ]
  },
  {
   "cell_type": "markdown",
   "metadata": {},
   "source": [
    "### Monitoring Dashboard"
   ]
  },
  {
   "cell_type": "markdown",
   "metadata": {},
   "source": [
    "Now that data is collected. Go to ADX Dashboard and import the quick_start/ADX_dashboards/databoard_Model_Monitoring.json to create a monitoring dashboard for your model.\n",
    "\n",
    "Review https://docs.microsoft.com/en-us/azure/data-explorer/azure-data-explorer-dashboards#to-create-new-dashboard-from-a-file for instruction on how to import the dashboard.\n",
    "\n",
    "You may need to correct a few default paramters such as connection to make dashboard work"
   ]
  },
  {
   "cell_type": "markdown",
   "metadata": {},
   "source": []
  }
 ],
 "metadata": {
  "interpreter": {
   "hash": "8858a4df92b06e9052bc306608e3218c33233584bc6448961c72d65ba55843de"
  },
  "kernelspec": {
   "display_name": "Python 3.8.5 ('dlresearch')",
   "language": "python",
   "name": "python3"
  },
  "language_info": {
   "codemirror_mode": {
    "name": "ipython",
    "version": 3
   },
   "file_extension": ".py",
   "mimetype": "text/x-python",
   "name": "python",
   "nbconvert_exporter": "python",
   "pygments_lexer": "ipython3",
   "version": "3.8.5"
  },
  "orig_nbformat": 4
 },
 "nbformat": 4,
 "nbformat_minor": 2
}
